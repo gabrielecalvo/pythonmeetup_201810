{
 "cells": [
  {
   "cell_type": "code",
   "execution_count": 1,
   "metadata": {},
   "outputs": [],
   "source": [
    "from api_key import YELP_API_KEY"
   ]
  },
  {
   "cell_type": "markdown",
   "metadata": {},
   "source": [
    "To get a Yelp API KEY follow (these info)[https://www.yelp.com/developers/documentation/v3/authentication]"
   ]
  },
  {
   "cell_type": "code",
   "execution_count": 2,
   "metadata": {},
   "outputs": [],
   "source": [
    "import pandas as pd\n",
    "import requests\n",
    "import json\n",
    "\n",
    "class Client():\n",
    "    endpoint = 'https://api.yelp.com/v3/businesses/search?'\n",
    "    valid_seach_keys = ['term','location','latitude','longitude','radius','categories','locale','limit','offset','sort_by','price','open_now','open_at','attributes']\n",
    "\n",
    "    def __init__(self, api_key):\n",
    "        self.api_key = api_key\n",
    "    \n",
    "    def request(self, endpoint):\n",
    "        #print(f'GET requesting: {endpoint}')\n",
    "        headers = {\"Authorization\":f\"Bearer {self.api_key}\"}\n",
    "        r = requests.get(endpoint, headers=headers)\n",
    "        return r\n",
    "        \n",
    "    def search_businesses(self, **kwargs):\n",
    "        for k in kwargs.keys():\n",
    "            assert k in self.valid_seach_keys\n",
    "        search_values = [f'{k}={v}' for k,v in kwargs.items()]\n",
    "        url = self.endpoint + '&'.join(search_values)\n",
    "        r = self.request(url)\n",
    "        return r\n",
    "    \n",
    "def save_to_json(obj, fpath='yelp.json'):\n",
    "    with open(fpath, 'w') as f:\n",
    "        json.dump(obj, f)\n",
    "\n",
    "def load_from_json(fpath='yelp.json'):\n",
    "    with open(fpath, 'r') as f:\n",
    "        content = json.load(f)\n",
    "    return content"
   ]
  },
  {
   "cell_type": "code",
   "execution_count": 3,
   "metadata": {},
   "outputs": [],
   "source": [
    "latitude, longitude = 55.863937, -4.270185  # M8 bridge\n",
    "radius = 5000\n",
    "categories = 'restaurants'\n",
    "limit = 50  # max=50"
   ]
  },
  {
   "cell_type": "code",
   "execution_count": 4,
   "metadata": {},
   "outputs": [],
   "source": [
    "c = Client(api_key=YELP_API_KEY)"
   ]
  },
  {
   "cell_type": "code",
   "execution_count": null,
   "metadata": {},
   "outputs": [],
   "source": [
    "offset = 0\n",
    "last_search_results = limit\n",
    "MAX_SIZE = 6000\n",
    "all_businesses = []\n",
    "\n",
    "while last_search_results >= limit and offset < MAX_SIZE:\n",
    "    r = c.search_businesses(\n",
    "        latitude=latitude, \n",
    "        longitude=longitude, \n",
    "        radius=radius, \n",
    "        categories=categories, \n",
    "        offset=offset, \n",
    "        limit=limit\n",
    "    )\n",
    "    if 'error' in r.json():\n",
    "        print(r.json())\n",
    "        break\n",
    "    \n",
    "    found_businesses = r.json()['businesses']\n",
    "    last_search_results = len(found_businesses)\n",
    "    offset += last_search_results\n",
    "    \n",
    "    all_businesses.extend(found_businesses)\n",
    "    print(f'added: {last_search_results}, curr len={len(all_businesses)}')\n",
    "\n",
    "save_to_json(obj=all_businesses, fpath='data/yelp.json')"
   ]
  },
  {
   "cell_type": "markdown",
   "metadata": {},
   "source": [
    "# Convert json to table"
   ]
  },
  {
   "cell_type": "code",
   "execution_count": 10,
   "metadata": {},
   "outputs": [],
   "source": [
    "all_businesses = load_from_json(fpath='data/yelp.json')\n",
    "\n",
    "def convert_item_to_record(b):\n",
    "    EXCLUDE = ['display_address']\n",
    "    record = {}\n",
    "    for k,v in b.items():\n",
    "        if k in EXCLUDE: continue\n",
    "        if isinstance(v, (int, float, bool, str)):\n",
    "            record[k] = v\n",
    "        elif isinstance(v, dict):\n",
    "            sub_record = convert_item_to_record(v)\n",
    "            record.update(sub_record)\n",
    "    return record"
   ]
  },
  {
   "cell_type": "code",
   "execution_count": 11,
   "metadata": {},
   "outputs": [],
   "source": [
    "records = [convert_item_to_record(b) for b in all_businesses]\n",
    "df = pd.DataFrame(records)\n",
    "\n",
    "ordered_col = [\n",
    "    'name', 'rating', 'review_count',  'price',\n",
    "    'latitude', 'longitude', 'zip_code', \n",
    "    'id', 'alias',\n",
    "    'address1', 'address2', 'address3',  'city', 'state', 'country',\n",
    "    'display_phone', 'image_url', 'phone', 'url'\n",
    "]"
   ]
  },
  {
   "cell_type": "code",
   "execution_count": 12,
   "metadata": {},
   "outputs": [],
   "source": [
    "df[ordered_col].to_csv('data/yelp.csv', index=None)"
   ]
  },
  {
   "cell_type": "code",
   "execution_count": null,
   "metadata": {},
   "outputs": [],
   "source": []
  }
 ],
 "metadata": {
  "kernelspec": {
   "display_name": "Python 3",
   "language": "python",
   "name": "python3"
  },
  "language_info": {
   "codemirror_mode": {
    "name": "ipython",
    "version": 3
   },
   "file_extension": ".py",
   "mimetype": "text/x-python",
   "name": "python",
   "nbconvert_exporter": "python",
   "pygments_lexer": "ipython3",
   "version": "3.6.6"
  }
 },
 "nbformat": 4,
 "nbformat_minor": 2
}
