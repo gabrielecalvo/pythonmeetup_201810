{
 "cells": [
  {
   "cell_type": "markdown",
   "metadata": {},
   "source": [
    "# Food Safety\n",
    "\n",
    "Exploration of the [Food Standards Agency's Data](http://ratings.food.gov.uk/) for Glasgow Establishments.\n",
    "The data for this analysis was downloaded using the code in ./data/data_download.ipynb"
   ]
  },
  {
   "cell_type": "markdown",
   "metadata": {},
   "source": [
    "### Importing the library\n",
    "\"pd\" is the common short name given to the pandas library"
   ]
  },
  {
   "cell_type": "code",
   "execution_count": 1,
   "metadata": {},
   "outputs": [],
   "source": [
    "import pandas as pd"
   ]
  },
  {
   "cell_type": "markdown",
   "metadata": {},
   "source": [
    "If looking for a deeper look at getting started in pandas, there is 2017 SciPy talk [here](https://github.com/chendaniely/scipy-2017-tutorial-pandas)\n",
    "\n",
    "For a quick overview, I recommend the [Cheat Sheet](http://pandas.pydata.org/Pandas_Cheat_Sheet.pdf)"
   ]
  },
  {
   "cell_type": "markdown",
   "metadata": {},
   "source": [
    "### Opening a Comma Separated Value file\n",
    "The **read_csv** function can also handle most tipes of flat files (i.e. stuff you can read with your favourite notepad application) provided that correct parametres are passed. The method handels skipping rows, parsing dates from different columns, differnt encodings, zipped sources and more.\n",
    "\n",
    "For the full documentation: [read_csv docs](http://pandas.pydata.org/pandas-docs/stable/generated/pandas.read_csv.html)"
   ]
  },
  {
   "cell_type": "code",
   "execution_count": 3,
   "metadata": {},
   "outputs": [],
   "source": [
    "df = pd.read_csv('data/food_safety_Glasgow.csv')"
   ]
  },
  {
   "cell_type": "markdown",
   "metadata": {},
   "source": [
    "### Exploring the data\n",
    "There are many ways to explore the data. Some of the simplest are:\n",
    "\n",
    "```python\n",
    "    df             # showing the \"full\" dataset\n",
    "    df.shape       # checking the size of the dataset\n",
    "    df.head(2)     # looking at first 2 rows. For last rows use df.tail()\n",
    "    df.loc[639]    # grabbing a sample row (using index label) \n",
    "    df.iloc[639]   # grabbing a sample row (using integer-location index)\n",
    "    df.columns     # looking at all column names\n",
    "    df.info()      # summary non-nulls and types for each column\n",
    "    df.describe()  # basic statistics (only for the numeric columns)\n",
    "```"
   ]
  },
  {
   "cell_type": "code",
   "execution_count": 7,
   "metadata": {},
   "outputs": [
    {
     "data": {
      "text/html": [
       "<div>\n",
       "<style scoped>\n",
       "    .dataframe tbody tr th:only-of-type {\n",
       "        vertical-align: middle;\n",
       "    }\n",
       "\n",
       "    .dataframe tbody tr th {\n",
       "        vertical-align: top;\n",
       "    }\n",
       "\n",
       "    .dataframe thead th {\n",
       "        text-align: right;\n",
       "    }\n",
       "</style>\n",
       "<table border=\"1\" class=\"dataframe\">\n",
       "  <thead>\n",
       "    <tr style=\"text-align: right;\">\n",
       "      <th></th>\n",
       "      <th>FHRSID</th>\n",
       "      <th>LocalAuthorityBusinessID</th>\n",
       "      <th>BusinessName</th>\n",
       "      <th>BusinessType</th>\n",
       "      <th>BusinessTypeID</th>\n",
       "      <th>AddressLine2</th>\n",
       "      <th>AddressLine3</th>\n",
       "      <th>PostCode</th>\n",
       "      <th>RatingValue</th>\n",
       "      <th>RatingKey</th>\n",
       "      <th>...</th>\n",
       "      <th>LocalAuthorityCode</th>\n",
       "      <th>LocalAuthorityName</th>\n",
       "      <th>LocalAuthorityWebSite</th>\n",
       "      <th>LocalAuthorityEmailAddress</th>\n",
       "      <th>Scores</th>\n",
       "      <th>SchemeType</th>\n",
       "      <th>NewRatingPending</th>\n",
       "      <th>Longitude</th>\n",
       "      <th>Latitude</th>\n",
       "      <th>AddressLine1</th>\n",
       "    </tr>\n",
       "  </thead>\n",
       "  <tbody>\n",
       "    <tr>\n",
       "      <th>0</th>\n",
       "      <td>1054130</td>\n",
       "      <td>18/00242/COM</td>\n",
       "      <td>#43</td>\n",
       "      <td>Restaurant/Cafe/Canteen</td>\n",
       "      <td>1</td>\n",
       "      <td>150 Old Dalmarnock Road</td>\n",
       "      <td>Glasgow</td>\n",
       "      <td>G40 4LH</td>\n",
       "      <td>Awaiting Inspection</td>\n",
       "      <td>fhis_awaiting_inspection_en-GB</td>\n",
       "      <td>...</td>\n",
       "      <td>776</td>\n",
       "      <td>Glasgow City</td>\n",
       "      <td>http://www.glasgow.gov.uk</td>\n",
       "      <td>food.safety@glasgow.gov.uk</td>\n",
       "      <td>NaN</td>\n",
       "      <td>FHIS</td>\n",
       "      <td>False</td>\n",
       "      <td>-4.219406</td>\n",
       "      <td>55.843804</td>\n",
       "      <td>NaN</td>\n",
       "    </tr>\n",
       "    <tr>\n",
       "      <th>1</th>\n",
       "      <td>946085</td>\n",
       "      <td>15/00071/COM</td>\n",
       "      <td>(DC1) Donut Coffee (Supreme Group)</td>\n",
       "      <td>Mobile caterer</td>\n",
       "      <td>7846</td>\n",
       "      <td>105 Clydeholm Road</td>\n",
       "      <td>Glasgow</td>\n",
       "      <td>G14 0QQ</td>\n",
       "      <td>Awaiting Inspection</td>\n",
       "      <td>fhis_awaiting_inspection_en-GB</td>\n",
       "      <td>...</td>\n",
       "      <td>776</td>\n",
       "      <td>Glasgow City</td>\n",
       "      <td>http://www.glasgow.gov.uk</td>\n",
       "      <td>food.safety@glasgow.gov.uk</td>\n",
       "      <td>NaN</td>\n",
       "      <td>FHIS</td>\n",
       "      <td>False</td>\n",
       "      <td>-4.337705</td>\n",
       "      <td>55.870607</td>\n",
       "      <td>NaN</td>\n",
       "    </tr>\n",
       "    <tr>\n",
       "      <th>2</th>\n",
       "      <td>36328</td>\n",
       "      <td>10/00926/COM</td>\n",
       "      <td>(Nisa) News 24</td>\n",
       "      <td>Retailers - other</td>\n",
       "      <td>4613</td>\n",
       "      <td>68 Gordon Street</td>\n",
       "      <td>Glasgow</td>\n",
       "      <td>G1 3RS</td>\n",
       "      <td>Improvement Required</td>\n",
       "      <td>fhis_improvement_required_en-GB</td>\n",
       "      <td>...</td>\n",
       "      <td>776</td>\n",
       "      <td>Glasgow City</td>\n",
       "      <td>http://www.glasgow.gov.uk</td>\n",
       "      <td>food.safety@glasgow.gov.uk</td>\n",
       "      <td>NaN</td>\n",
       "      <td>FHIS</td>\n",
       "      <td>False</td>\n",
       "      <td>-4.257722</td>\n",
       "      <td>55.860794</td>\n",
       "      <td>NaN</td>\n",
       "    </tr>\n",
       "    <tr>\n",
       "      <th>3</th>\n",
       "      <td>19429</td>\n",
       "      <td>06/00508/COM</td>\n",
       "      <td>(Starbucks)</td>\n",
       "      <td>Restaurant/Cafe/Canteen</td>\n",
       "      <td>1</td>\n",
       "      <td>390 Provan Walk</td>\n",
       "      <td>Glasgow</td>\n",
       "      <td>G34 9DL</td>\n",
       "      <td>Pass</td>\n",
       "      <td>fhis_pass_en-GB</td>\n",
       "      <td>...</td>\n",
       "      <td>776</td>\n",
       "      <td>Glasgow City</td>\n",
       "      <td>http://www.glasgow.gov.uk</td>\n",
       "      <td>food.safety@glasgow.gov.uk</td>\n",
       "      <td>NaN</td>\n",
       "      <td>FHIS</td>\n",
       "      <td>False</td>\n",
       "      <td>-4.136909</td>\n",
       "      <td>55.872982</td>\n",
       "      <td>NaN</td>\n",
       "    </tr>\n",
       "    <tr>\n",
       "      <th>4</th>\n",
       "      <td>36363</td>\n",
       "      <td>10/01018/COM</td>\n",
       "      <td>1 Call Direct Staff Canteen</td>\n",
       "      <td>Restaurant/Cafe/Canteen</td>\n",
       "      <td>1</td>\n",
       "      <td>116 West Regent Street</td>\n",
       "      <td>Glasgow</td>\n",
       "      <td>G2 2QD</td>\n",
       "      <td>Pass</td>\n",
       "      <td>fhis_pass_en-GB</td>\n",
       "      <td>...</td>\n",
       "      <td>776</td>\n",
       "      <td>Glasgow City</td>\n",
       "      <td>http://www.glasgow.gov.uk</td>\n",
       "      <td>food.safety@glasgow.gov.uk</td>\n",
       "      <td>NaN</td>\n",
       "      <td>FHIS</td>\n",
       "      <td>False</td>\n",
       "      <td>-4.258732</td>\n",
       "      <td>55.863606</td>\n",
       "      <td>Storey Ground</td>\n",
       "    </tr>\n",
       "  </tbody>\n",
       "</table>\n",
       "<p>5 rows × 21 columns</p>\n",
       "</div>"
      ],
      "text/plain": [
       "    FHRSID LocalAuthorityBusinessID                        BusinessName  \\\n",
       "0  1054130             18/00242/COM                                 #43   \n",
       "1   946085             15/00071/COM  (DC1) Donut Coffee (Supreme Group)   \n",
       "2    36328             10/00926/COM                      (Nisa) News 24   \n",
       "3    19429             06/00508/COM                         (Starbucks)   \n",
       "4    36363             10/01018/COM         1 Call Direct Staff Canteen   \n",
       "\n",
       "              BusinessType  BusinessTypeID             AddressLine2  \\\n",
       "0  Restaurant/Cafe/Canteen               1  150 Old Dalmarnock Road   \n",
       "1           Mobile caterer            7846       105 Clydeholm Road   \n",
       "2        Retailers - other            4613         68 Gordon Street   \n",
       "3  Restaurant/Cafe/Canteen               1          390 Provan Walk   \n",
       "4  Restaurant/Cafe/Canteen               1   116 West Regent Street   \n",
       "\n",
       "  AddressLine3 PostCode           RatingValue  \\\n",
       "0      Glasgow  G40 4LH   Awaiting Inspection   \n",
       "1      Glasgow  G14 0QQ   Awaiting Inspection   \n",
       "2      Glasgow   G1 3RS  Improvement Required   \n",
       "3      Glasgow  G34 9DL                  Pass   \n",
       "4      Glasgow   G2 2QD                  Pass   \n",
       "\n",
       "                         RatingKey      ...       LocalAuthorityCode  \\\n",
       "0   fhis_awaiting_inspection_en-GB      ...                      776   \n",
       "1   fhis_awaiting_inspection_en-GB      ...                      776   \n",
       "2  fhis_improvement_required_en-GB      ...                      776   \n",
       "3                  fhis_pass_en-GB      ...                      776   \n",
       "4                  fhis_pass_en-GB      ...                      776   \n",
       "\n",
       "   LocalAuthorityName      LocalAuthorityWebSite  LocalAuthorityEmailAddress  \\\n",
       "0        Glasgow City  http://www.glasgow.gov.uk  food.safety@glasgow.gov.uk   \n",
       "1        Glasgow City  http://www.glasgow.gov.uk  food.safety@glasgow.gov.uk   \n",
       "2        Glasgow City  http://www.glasgow.gov.uk  food.safety@glasgow.gov.uk   \n",
       "3        Glasgow City  http://www.glasgow.gov.uk  food.safety@glasgow.gov.uk   \n",
       "4        Glasgow City  http://www.glasgow.gov.uk  food.safety@glasgow.gov.uk   \n",
       "\n",
       "  Scores  SchemeType NewRatingPending  Longitude   Latitude   AddressLine1  \n",
       "0    NaN        FHIS            False  -4.219406  55.843804            NaN  \n",
       "1    NaN        FHIS            False  -4.337705  55.870607            NaN  \n",
       "2    NaN        FHIS            False  -4.257722  55.860794            NaN  \n",
       "3    NaN        FHIS            False  -4.136909  55.872982            NaN  \n",
       "4    NaN        FHIS            False  -4.258732  55.863606  Storey Ground  \n",
       "\n",
       "[5 rows x 21 columns]"
      ]
     },
     "execution_count": 7,
     "metadata": {},
     "output_type": "execute_result"
    }
   ],
   "source": [
    "df.head()"
   ]
  },
  {
   "cell_type": "code",
   "execution_count": 4,
   "metadata": {},
   "outputs": [
    {
     "data": {
      "text/html": [
       "<div>\n",
       "<style scoped>\n",
       "    .dataframe tbody tr th:only-of-type {\n",
       "        vertical-align: middle;\n",
       "    }\n",
       "\n",
       "    .dataframe tbody tr th {\n",
       "        vertical-align: top;\n",
       "    }\n",
       "\n",
       "    .dataframe thead th {\n",
       "        text-align: right;\n",
       "    }\n",
       "</style>\n",
       "<table border=\"1\" class=\"dataframe\">\n",
       "  <thead>\n",
       "    <tr style=\"text-align: right;\">\n",
       "      <th></th>\n",
       "      <th>BusinessName</th>\n",
       "      <th>Latitude</th>\n",
       "    </tr>\n",
       "  </thead>\n",
       "  <tbody>\n",
       "    <tr>\n",
       "      <th>639</th>\n",
       "      <td>Butterfly And The Pig (and Tea Room)</td>\n",
       "      <td>55.864192</td>\n",
       "    </tr>\n",
       "    <tr>\n",
       "      <th>640</th>\n",
       "      <td>Butterfly Catering</td>\n",
       "      <td>55.798755</td>\n",
       "    </tr>\n",
       "    <tr>\n",
       "      <th>641</th>\n",
       "      <td>Butterfly Nursery</td>\n",
       "      <td>55.804968</td>\n",
       "    </tr>\n",
       "    <tr>\n",
       "      <th>642</th>\n",
       "      <td>Buttons And Bows Nursery</td>\n",
       "      <td>55.843210</td>\n",
       "    </tr>\n",
       "  </tbody>\n",
       "</table>\n",
       "</div>"
      ],
      "text/plain": [
       "                             BusinessName   Latitude\n",
       "639  Butterfly And The Pig (and Tea Room)  55.864192\n",
       "640                    Butterfly Catering  55.798755\n",
       "641                     Butterfly Nursery  55.804968\n",
       "642              Buttons And Bows Nursery  55.843210"
      ]
     },
     "execution_count": 4,
     "metadata": {},
     "output_type": "execute_result"
    }
   ],
   "source": [
    "df.loc[639:642, ['BusinessName','Latitude']]"
   ]
  },
  {
   "cell_type": "markdown",
   "metadata": {},
   "source": [
    "Where did all the other columns go? They are non-numeric :("
   ]
  },
  {
   "cell_type": "markdown",
   "metadata": {},
   "source": [
    "### Let's do some plotting\n",
    "pandas uses matplotlib in the backend to give useful plot with one or few lines of code leaving the user with the possiblity to use pure matplotlib for more customized stuff.\n",
    "\n",
    "For more info on [pandas visualization, go here.](https://pandas.pydata.org/pandas-docs/stable/visualization.html)"
   ]
  },
  {
   "cell_type": "code",
   "execution_count": 8,
   "metadata": {},
   "outputs": [
    {
     "data": {
      "text/plain": [
       "<matplotlib.axes._subplots.AxesSubplot at 0x1517a143fd0>"
      ]
     },
     "execution_count": 8,
     "metadata": {},
     "output_type": "execute_result"
    },
    {
     "data": {
      "image/png": "[encoded data removed]",
      "text/plain": [
       "<Figure size 432x288 with 1 Axes>"
      ]
     },
     "metadata": {},
     "output_type": "display_data"
    }
   ],
   "source": [
    "# uncomment to visualize matplotlib plots in the notebook (only need to run it once per notebook... usually with the imports)\n",
    "%matplotlib inline  \n",
    "\n",
    "df.plot('Longitude', 'Latitude', kind='scatter', grid=True)"
   ]
  },
  {
   "cell_type": "code",
   "execution_count": 6,
   "metadata": {},
   "outputs": [
    {
     "data": {
      "text/html": [
       "<div>\n",
       "<style scoped>\n",
       "    .dataframe tbody tr th:only-of-type {\n",
       "        vertical-align: middle;\n",
       "    }\n",
       "\n",
       "    .dataframe tbody tr th {\n",
       "        vertical-align: top;\n",
       "    }\n",
       "\n",
       "    .dataframe thead th {\n",
       "        text-align: right;\n",
       "    }\n",
       "</style>\n",
       "<table border=\"1\" class=\"dataframe\">\n",
       "  <thead>\n",
       "    <tr style=\"text-align: right;\">\n",
       "      <th></th>\n",
       "      <th>FHRSID</th>\n",
       "      <th>LocalAuthorityBusinessID</th>\n",
       "      <th>BusinessName</th>\n",
       "      <th>BusinessType</th>\n",
       "      <th>BusinessTypeID</th>\n",
       "      <th>AddressLine2</th>\n",
       "      <th>AddressLine3</th>\n",
       "      <th>PostCode</th>\n",
       "      <th>RatingValue</th>\n",
       "      <th>RatingKey</th>\n",
       "      <th>...</th>\n",
       "      <th>LocalAuthorityCode</th>\n",
       "      <th>LocalAuthorityName</th>\n",
       "      <th>LocalAuthorityWebSite</th>\n",
       "      <th>LocalAuthorityEmailAddress</th>\n",
       "      <th>Scores</th>\n",
       "      <th>SchemeType</th>\n",
       "      <th>NewRatingPending</th>\n",
       "      <th>Longitude</th>\n",
       "      <th>Latitude</th>\n",
       "      <th>AddressLine1</th>\n",
       "    </tr>\n",
       "  </thead>\n",
       "  <tbody>\n",
       "    <tr>\n",
       "      <th>93</th>\n",
       "      <td>905249</td>\n",
       "      <td>16/00516/COM</td>\n",
       "      <td>Al Sultan</td>\n",
       "      <td>Restaurant/Cafe/Canteen</td>\n",
       "      <td>1</td>\n",
       "      <td>61 Bridge Street</td>\n",
       "      <td>Glasgow</td>\n",
       "      <td>NaN</td>\n",
       "      <td>Pass</td>\n",
       "      <td>fhis_pass_en-GB</td>\n",
       "      <td>...</td>\n",
       "      <td>776</td>\n",
       "      <td>Glasgow City</td>\n",
       "      <td>http://www.glasgow.gov.uk</td>\n",
       "      <td>food.safety@glasgow.gov.uk</td>\n",
       "      <td>NaN</td>\n",
       "      <td>FHIS</td>\n",
       "      <td>False</td>\n",
       "      <td>0.11797</td>\n",
       "      <td>52.208875</td>\n",
       "      <td>Storey 1 - 3</td>\n",
       "    </tr>\n",
       "  </tbody>\n",
       "</table>\n",
       "<p>1 rows × 21 columns</p>\n",
       "</div>"
      ],
      "text/plain": [
       "    FHRSID LocalAuthorityBusinessID BusinessName             BusinessType  \\\n",
       "93  905249             16/00516/COM    Al Sultan  Restaurant/Cafe/Canteen   \n",
       "\n",
       "    BusinessTypeID      AddressLine2 AddressLine3 PostCode RatingValue  \\\n",
       "93               1  61 Bridge Street      Glasgow      NaN        Pass   \n",
       "\n",
       "          RatingKey      ...      LocalAuthorityCode  LocalAuthorityName  \\\n",
       "93  fhis_pass_en-GB      ...                     776        Glasgow City   \n",
       "\n",
       "        LocalAuthorityWebSite  LocalAuthorityEmailAddress Scores  SchemeType  \\\n",
       "93  http://www.glasgow.gov.uk  food.safety@glasgow.gov.uk    NaN        FHIS   \n",
       "\n",
       "   NewRatingPending  Longitude   Latitude  AddressLine1  \n",
       "93            False    0.11797  52.208875  Storey 1 - 3  \n",
       "\n",
       "[1 rows x 21 columns]"
      ]
     },
     "execution_count": 6,
     "metadata": {},
     "output_type": "execute_result"
    }
   ],
   "source": [
    "df[df.Longitude>0]"
   ]
  },
  {
   "cell_type": "code",
   "execution_count": 7,
   "metadata": {},
   "outputs": [],
   "source": [
    "# From a quick google maps search: 61 Bridge St, Glasgow G5 9JB  => 55.853033, -4.258319\n",
    "df.loc[93, 'Longitude'] = -4.258319\n",
    "df.loc[93, 'Latitude'] = 55.853033"
   ]
  },
  {
   "cell_type": "code",
   "execution_count": null,
   "metadata": {},
   "outputs": [],
   "source": [
    "is_missing_lat = pd.isnull(df.Latitude)\n",
    "df = df[~is_missing_lat]"
   ]
  },
  {
   "cell_type": "markdown",
   "metadata": {},
   "source": [
    "### Want more fancy plotting?"
   ]
  },
  {
   "cell_type": "code",
   "execution_count": null,
   "metadata": {},
   "outputs": [],
   "source": [
    "import folium\n",
    "from folium.plugins import HeatMap"
   ]
  },
  {
   "cell_type": "code",
   "execution_count": null,
   "metadata": {},
   "outputs": [],
   "source": [
    "m = folium.Map(\n",
    "    location=[55.863823, -4.267681],\n",
    "    zoom_start=12,\n",
    "    tiles='cartodbpositron'\n",
    ")\n",
    "\n",
    "rating_color={\n",
    "    'fhis_awaiting_inspection_en-GB': 'gray',\n",
    "    'fhis_improvement_required_en-GB': 'red',\n",
    "    'fhis_pass_en-GB': 'yellow',\n",
    "    'fhis_pass_and_eat_safe_en-GB': 'green',\n",
    "}\n",
    "\n",
    "for _, row in df.iterrows():   \n",
    "    info_txt = \"<b>{}</b><br>(<i>{}</i>, {})\".format(row.BusinessName.replace(\"'\", \"`\"), row.RatingValue, row.RatingDate)\n",
    "    folium.Circle(\n",
    "        radius=3,\n",
    "        location=[row.Latitude, row.Longitude],\n",
    "        tooltip=info_txt,\n",
    "        color='black',\n",
    "        weight=0.5,\n",
    "        fill_opacity=0.8,\n",
    "        fill_color=rating_color[row.RatingKey],\n",
    "        fill=True,\n",
    "    ).add_to(m)\n",
    "    \n",
    "m   # FYI: for some reason this one is rendered only on Firefox"
   ]
  },
  {
   "cell_type": "markdown",
   "metadata": {},
   "source": [
    "### Let's bring some heat"
   ]
  },
  {
   "cell_type": "code",
   "execution_count": null,
   "metadata": {},
   "outputs": [],
   "source": [
    "m = folium.Map(\n",
    "    location=[55.863823, -4.267681],\n",
    "    zoom_start=12,\n",
    "    tiles='cartodbpositron'\n",
    ")\n",
    "\n",
    "data_needing_improvements = df.loc[df.RatingValue == 'Improvement Required', ['Latitude', 'Longitude']].values\n",
    "data_pass_plus = df.loc[df.RatingValue == 'Pass and Eat Safe', ['Latitude', 'Longitude']].values\n",
    "\n",
    "HeatMap(data=data_needing_improvements, name='need_improvements', show=False).add_to(m)\n",
    "HeatMap(data=data_pass_plus, name='pass_plus', show=False).add_to(m)\n",
    "folium.LayerControl().add_to(m)\n",
    "\n",
    "m"
   ]
  },
  {
   "cell_type": "markdown",
   "metadata": {},
   "source": [
    "### Combining data"
   ]
  },
  {
   "cell_type": "code",
   "execution_count": null,
   "metadata": {},
   "outputs": [],
   "source": [
    "df_yelp_matched = pd.read_csv('data/yelp_matched.csv')\n",
    "df_yelp_matched.head()"
   ]
  },
  {
   "cell_type": "code",
   "execution_count": null,
   "metadata": {},
   "outputs": [],
   "source": [
    "df_combined = pd.merge(left=df, right=df_yelp_matched, on='FHRSID')\n",
    "df_combined.head()"
   ]
  },
  {
   "cell_type": "code",
   "execution_count": null,
   "metadata": {},
   "outputs": [],
   "source": [
    "df_combined.iloc[0]"
   ]
  },
  {
   "cell_type": "code",
   "execution_count": null,
   "metadata": {},
   "outputs": [],
   "source": [
    "qdf = df_combined[['rating', 'review_count']].copy()\n",
    "\n",
    "qdf['price'] = df_combined['price'].fillna('').apply(len).replace(0, pd.np.nan)\n",
    "\n",
    "qdf['fsa_rating'] = df_combined['RatingValue'].apply(\n",
    "    ['Improvement Required', 'Awaiting Inspection', 'Pass', 'Pass and Eat Safe', 'Awaiting Inspection'].index\n",
    ")\n",
    "\n",
    "qdf.head()"
   ]
  },
  {
   "cell_type": "code",
   "execution_count": null,
   "metadata": {},
   "outputs": [],
   "source": [
    "import seaborn as sns\n",
    "sns.set(style=\"ticks\")\n",
    "\n",
    "sns.pairplot(qdf.dropna(), hue='fsa_rating',size=4)"
   ]
  },
  {
   "cell_type": "code",
   "execution_count": null,
   "metadata": {},
   "outputs": [],
   "source": [
    "from pandas.plotting import scatter_matrix\n",
    "import matplotlib.pyplot as plt\n",
    "plt.style.use(style='default')\n",
    "%matplotlib inline\n",
    "axes = scatter_matrix(qdf, alpha=0.5, diagonal='kde', figsize=(20,20))\n",
    "axes[2][2]"
   ]
  },
  {
   "cell_type": "code",
   "execution_count": null,
   "metadata": {},
   "outputs": [],
   "source": [
    "axes[2][2]"
   ]
  },
  {
   "cell_type": "code",
   "execution_count": null,
   "metadata": {},
   "outputs": [],
   "source": [
    "qdf['price'].plot.hist(by=range(0,6))"
   ]
  },
  {
   "cell_type": "code",
   "execution_count": null,
   "metadata": {},
   "outputs": [],
   "source": [
    "from pandas.plotting import andrews_curves\n",
    "is_x_centre = (df_combined.Longitude < -4.25) & (df_combined.Longitude > -4.265)\n",
    "is_y_centre= (df_combined.Latitude < 55.868) & (df_combined.Latitude > 55.855)\n",
    "df_combined[is_x_centre & is_y_centre].plot.hexbin(x='Longitude', y='Latitude')"
   ]
  },
  {
   "cell_type": "code",
   "execution_count": null,
   "metadata": {},
   "outputs": [],
   "source": [
    "df_combined[is_x_centre & is_y_centre].Longitude.hist(bins=30)"
   ]
  },
  {
   "cell_type": "code",
   "execution_count": null,
   "metadata": {},
   "outputs": [],
   "source": []
  }
 ],
 "metadata": {
  "kernelspec": {
   "display_name": "Python 3",
   "language": "python",
   "name": "python3"
  },
  "language_info": {
   "codemirror_mode": {
    "name": "ipython",
    "version": 3
   },
   "file_extension": ".py",
   "mimetype": "text/x-python",
   "name": "python",
   "nbconvert_exporter": "python",
   "pygments_lexer": "ipython3",
   "version": "3.6.6"
  }
 },
 "nbformat": 4,
 "nbformat_minor": 2
}
