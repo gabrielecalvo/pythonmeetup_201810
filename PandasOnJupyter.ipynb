{
 "cells": [
  {
   "cell_type": "markdown",
   "metadata": {
    "slideshow": {
     "slide_type": "slide"
    }
   },
   "source": [
    "![pandas_on_jupyter](imgs/pands_on_jupyter_corr.jpg)"
   ]
  },
  {
   "cell_type": "markdown",
   "metadata": {
    "slideshow": {
     "slide_type": "slide"
    }
   },
   "source": [
    "<img alt=\"jupyter_logo\" src=\"imgs/jupyter_project.svg\" width=\"30%\" align=\"middle\">\n",
    "\n",
    "### Jupyter Project\n",
    "- born out of the IPython Project in 2014 (remember \"Ipython Notebook\"?)\n",
    "- Opensource, [3-Clause BSD Licence](https://opensource.org/licenses/BSD-3-Clause)\n",
    "- Sponsored by Google, Microsoft, EU (Horizon 2020) et al., under NUMFOCUS.\n",
    "- **Ju**lia **Pyt**hon  (<b>e</b>) **R**</b>\n",
    "\n",
    "Mainly known for Jupyter Notebook"
   ]
  },
  {
   "cell_type": "markdown",
   "metadata": {
    "slideshow": {
     "slide_type": "slide"
    }
   },
   "source": [
    "### Jupyter Notebook\n",
    "**https://try.jupyter.org**\n",
    "\n",
    "![notebook_interface](imgs/nb1.png)"
   ]
  },
  {
   "cell_type": "markdown",
   "metadata": {
    "slideshow": {
     "slide_type": "subslide"
    }
   },
   "source": [
    "![notebook_interface](imgs/nb2.png)"
   ]
  },
  {
   "cell_type": "markdown",
   "metadata": {
    "slideshow": {
     "slide_type": "subslide"
    }
   },
   "source": [
    "## Inner Workings of the Notebook\n",
    "<img alt=\"notebook_components\" src=\"imgs/notebook_components.png\" width=\"40%\">\n",
    "\n",
    "- Ipython Kernel: process responsible for running code (& autocompletion..)\n",
    "- Frontends communicate with the IPython Kernel using JSON messages over ZeroMQ sockets\n",
    "- A kernel process can be connected to more than one frontend simultaneously (access to the same variables) => support new languages in the same frontends using different kernels\n",
    "- Notebook Server stores code (json with *.ipynb*), displays it to browser \n",
    "- *Nbconverter tool* converts notebook to formats like HTML, LaTeX, ***slides***.."
   ]
  },
  {
   "cell_type": "markdown",
   "metadata": {
    "slideshow": {
     "slide_type": "slide"
    }
   },
   "source": [
    "### Jupyter ~~Notebook~~ **Lab**\n",
    "- evolution of Jupyter Notebook\n",
    "- interactive development environment with tabbed work area\n",
    "- *text editors*, *terminals*, *data file viewers*, and other *custom components*\n",
    "- extension system \n",
    "![lab_interface](imgs/interface_jupyterlab2.png)"
   ]
  },
  {
   "cell_type": "markdown",
   "metadata": {
    "slideshow": {
     "slide_type": "slide"
    }
   },
   "source": [
    "## References / Useful links\n",
    "- [Jupyter Project](http://jupyter.org/)\n",
    "- [Inner Workings of Notebook](https://jupyter.readthedocs.io/en/latest/architecture/how_jupyter_ipython_work.html)\n",
    "- [Try Jupyter](https://try.jupyter.org)\n",
    "- [JupyterLab](https://blog.jupyter.org/jupyterlab-is-ready-for-users-5a6f039b8906)\n",
    "- [Creating slideshow from ipynb](https://medium.com/@mjspeck/presenting-code-using-jupyter-notebook-slides-a8a3c3b59d67)"
   ]
  },
  {
   "cell_type": "code",
   "execution_count": null,
   "metadata": {},
   "outputs": [],
   "source": []
  }
 ],
 "metadata": {
  "celltoolbar": "Slideshow",
  "kernelspec": {
   "display_name": "Python 3",
   "language": "python",
   "name": "python3"
  },
  "language_info": {
   "codemirror_mode": {
    "name": "ipython",
    "version": 3
   },
   "file_extension": ".py",
   "mimetype": "text/x-python",
   "name": "python",
   "nbconvert_exporter": "python",
   "pygments_lexer": "ipython3",
   "version": "3.6.6"
  }
 },
 "nbformat": 4,
 "nbformat_minor": 2
}
