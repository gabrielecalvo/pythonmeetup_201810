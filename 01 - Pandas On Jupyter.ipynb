{
 "cells": [
  {
   "cell_type": "markdown",
   "metadata": {
    "slideshow": {
     "slide_type": "slide"
    }
   },
   "source": [
    "![pandas_on_jupyter](imgs/pands_on_jupyter_corr.jpg)"
   ]
  },
  {
   "cell_type": "markdown",
   "metadata": {
    "slideshow": {
     "slide_type": "slide"
    }
   },
   "source": [
    "# Who's this bloke?\n",
    "<style>\n",
    ".rendered_html table,\n",
    ".rendered_html tr,\n",
    ".rendered_html th,\n",
    ".rendered_html td {\n",
    "  border: 0px solid black;\n",
    "}\n",
    "</style>\n",
    "<table style=\"border: none;\"><tr>\n",
    "    <td>\n",
    "        <img src=\"imgs/gabe.jpg\"> \n",
    "    </td>\n",
    "    <td width=50%>\n",
    "        <h1>Gabe Calvo</h1>\n",
    "        <h4><a href=\"https://twitter.com/gabedotpy\">@gabedotpy</a></h4>\n",
    "        <br>\n",
    "        <h2>Wind Energy Data Analyst</h2> \n",
    "        <h4>Python coding for ~4y</h4><br>\n",
    "        .. and don't like to share breadsticks\n",
    "    </td>\n",
    "</tr></table>"
   ]
  },
  {
   "cell_type": "markdown",
   "metadata": {
    "slideshow": {
     "slide_type": "slide"
    }
   },
   "source": [
    "<img alt=\"jupyter_logo\" src=\"imgs/jupyter_project.svg\" width=\"30%\" align=\"middle\">\n",
    "\n",
    "### Jupyter Project\n",
    "- born out of the IPython Project in 2014 (remember \"Ipython Notebook\"?)\n",
    "- Opensource, [3-Clause BSD Licence](https://opensource.org/licenses/BSD-3-Clause)\n",
    "- Sponsored by Google, Microsoft, EU (Horizon 2020) et al., under NUMFOCUS.\n",
    "- **Ju**lia **Pyt**hon  (<b>e</b>) **R**</b>\n",
    "\n",
    "Mainly known for Jupyter Notebook"
   ]
  },
  {
   "cell_type": "markdown",
   "metadata": {
    "slideshow": {
     "slide_type": "slide"
    }
   },
   "source": [
    "### Jupyter Notebook\n",
    "**https://try.jupyter.org**\n",
    "\n",
    "![notebook_interface](imgs/nb1.png)"
   ]
  },
  {
   "cell_type": "markdown",
   "metadata": {
    "slideshow": {
     "slide_type": "subslide"
    }
   },
   "source": [
    "![notebook_interface](imgs/nb2.png)"
   ]
  },
  {
   "cell_type": "markdown",
   "metadata": {
    "slideshow": {
     "slide_type": "subslide"
    }
   },
   "source": [
    "## Inner Workings of the Notebook\n",
    "<img alt=\"notebook_components\" src=\"imgs/notebook_components.png\" width=\"40%\">\n",
    "\n",
    "- Ipython Kernel: process responsible for running code (& autocompletion..)\n",
    "- Frontends communicate with the IPython Kernel using JSON messages over ZeroMQ sockets\n",
    "- A kernel process can be connected to more than one frontend simultaneously (access to the same variables) => support new languages in the same frontends using different kernels\n",
    "- Notebook Server stores code (json with *.ipynb*), displays it to browser \n",
    "- *Nbconverter tool* converts notebook to formats like HTML, LaTeX, ***slides***.."
   ]
  },
  {
   "cell_type": "markdown",
   "metadata": {
    "slideshow": {
     "slide_type": "slide"
    }
   },
   "source": [
    "### Jupyter ~~Notebook~~ **Lab**\n",
    "- evolution of Jupyter Notebook\n",
    "- interactive development environment with tabbed work area\n",
    "- *text editors*, *terminals*, *data file viewers*, and other *custom components*\n",
    "- extension system \n",
    "![lab_interface](imgs/interface_jupyterlab2.png)"
   ]
  },
  {
   "cell_type": "markdown",
   "metadata": {},
   "source": [
    "# I think notebooks are great!!\n",
    "(that's why I'm telling you about them)\n",
    "\n",
    "But there are things to look out for:\n",
    "- hidden state\n",
    "- out of order cell execution\n",
    "- \"misuse\" (importing notebooks inside notebooks)\n",
    "- \"lazy\" autocomplete (only if variable/module already loaded)\n",
    "\n",
    "As well articulated in Joel Grus' (of [Data Science from Scratch](https://www.amazon.co.uk/Data-Science-Scratch-Principles-Python-ebook/dp/B00W4DTP2A/ref=sr_1_1?s=digital-text&ie=UTF8&qid=1541969730&sr=1-1&keywords=data+science+from+scratch) fame) presentation @JupyterCon2018: [I don't like notebooks talk](https://docs.google.com/presentation/d/1n2RlMdmv1p25Xy5thJUhkKGvjtV-dkAIsUXP-AL4ffI/edit#slide=id.g362da58057_0_1)\n",
    "\n",
    "A good example of what I think is good Notebook practice is Jake Vanderplas's miniseries on [Reproducible Data Analysis in Jupyter](https://www.youtube.com/watch?v=_ZEWDGpM-vM&list=PLYCpMb24GpOC704uO9svUrihl-HY1tTJJ)"
   ]
  },
  {
   "cell_type": "markdown",
   "metadata": {
    "slideshow": {
     "slide_type": "slide"
    }
   },
   "source": [
    "One last thing... even **this presentation** was made with **Jupyter**!!\n",
    "\n",
    "![suprise](imgs/suprise.jpg)"
   ]
  },
  {
   "cell_type": "markdown",
   "metadata": {
    "slideshow": {
     "slide_type": "slide"
    }
   },
   "source": [
    "## References / Useful links\n",
    "- [Jupyter Project](http://jupyter.org/)\n",
    "- [Inner Workings of Notebook](https://jupyter.readthedocs.io/en/latest/architecture/how_jupyter_ipython_work.html)\n",
    "- [Try Jupyter](https://try.jupyter.org)\n",
    "- [Jupyter Notebook tutorial](https://www.datacamp.com/community/tutorials/tutorial-jupyter-notebook)\n",
    "- [JupyterLab](https://blog.jupyter.org/jupyterlab-is-ready-for-users-5a6f039b8906)\n",
    "- [Creating slideshow from ipynb](https://medium.com/@mjspeck/presenting-code-using-jupyter-notebook-slides-a8a3c3b59d67)\n",
    "\n",
    "[let's have some pandas butter on jupyter jelly..](http://localhost:1234/lab/tree/02%20-%20Food%20Safety.ipynb)"
   ]
  },
  {
   "cell_type": "code",
   "execution_count": null,
   "metadata": {
    "slideshow": {
     "slide_type": "notes"
    }
   },
   "outputs": [],
   "source": [
    "# !jupyter nbconvert \"01 - Pandas On Jupyter.ipynb\" --to slides --post serve"
   ]
  },
  {
   "cell_type": "code",
   "execution_count": null,
   "metadata": {},
   "outputs": [],
   "source": []
  }
 ],
 "metadata": {
  "celltoolbar": "Slideshow",
  "kernelspec": {
   "display_name": "Python 3",
   "language": "python",
   "name": "python3"
  },
  "language_info": {
   "codemirror_mode": {
    "name": "ipython",
    "version": 3
   },
   "file_extension": ".py",
   "mimetype": "text/x-python",
   "name": "python",
   "nbconvert_exporter": "python",
   "pygments_lexer": "ipython3",
   "version": "3.6.6"
  }
 },
 "nbformat": 4,
 "nbformat_minor": 2
}
